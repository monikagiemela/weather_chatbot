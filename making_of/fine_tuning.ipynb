{
 "cells": [
  {
   "cell_type": "code",
   "execution_count": 13,
   "metadata": {},
   "outputs": [],
   "source": [
    "import os\n",
    "from dotenv import load_dotenv\n",
    "from openai import OpenAI\n",
    "load_dotenv()\n",
    "\n",
    "OPENAI_API_KEY = os.getenv('OPENAI_API_KEY')\n",
    "client = OpenAI()\n",
    "\n",
    "response = client.files.create(\n",
    "  file=open('data/weather_chatbot_data.jsonl', \"rb\"),\n",
    "  purpose=\"fine-tune\"\n",
    ")"
   ]
  },
  {
   "cell_type": "code",
   "execution_count": 17,
   "metadata": {},
   "outputs": [
    {
     "name": "stdout",
     "output_type": "stream",
     "text": [
      "Uploaded file ID: FileObject(id='file-AVVhfA7MPVXl3qMiohpJqn8W', bytes=6138, created_at=1729944627, filename='weather_chatbot_data.jsonl', object='file', purpose='fine-tune', status='processed', status_details=None)\n",
      "file-AVVhfA7MPVXl3qMiohpJqn8W\n"
     ]
    }
   ],
   "source": [
    "print(f\"Uploaded file ID: {response}\")"
   ]
  },
  {
   "cell_type": "code",
   "execution_count": null,
   "metadata": {},
   "outputs": [],
   "source": [
    "# Fine-tune the model\n",
    "file_id = response.id\n",
    "# ft = client.fine_tuning.jobs.create(\n",
    "#     model=\"gpt-3.5-turbo\",\n",
    "#     training_file=file_id,\n",
    "#     suffix=\"drone\",\n",
    "# )\n",
    "\n",
    "fine_tune_response = client.fine_tuning.jobs.create(\n",
    "  training_file=file_id,\n",
    "  model=\"gpt-4o-mini-2024-07-18\",\n",
    "  suffix=\"weather_chatbot\"\n",
    ")"
   ]
  },
  {
   "cell_type": "code",
   "execution_count": null,
   "metadata": {},
   "outputs": [],
   "source": [
    "print(f\"Fine-tune job ID: {fine_tune_response['id']}\")"
   ]
  },
  {
   "cell_type": "code",
   "execution_count": null,
   "metadata": {},
   "outputs": [],
   "source": [
    "status_response = openai.FineTune.retrieve(id=fine_tune_response['id'])\n",
    "print(f\"Fine-tune status: {status_response['status']}\")"
   ]
  }
 ],
 "metadata": {
  "kernelspec": {
   "display_name": "weather_chatbot_venv",
   "language": "python",
   "name": "python3"
  },
  "language_info": {
   "codemirror_mode": {
    "name": "ipython",
    "version": 3
   },
   "file_extension": ".py",
   "mimetype": "text/x-python",
   "name": "python",
   "nbconvert_exporter": "python",
   "pygments_lexer": "ipython3",
   "version": "3.13.0"
  },
  "orig_nbformat": 4
 },
 "nbformat": 4,
 "nbformat_minor": 2
}
